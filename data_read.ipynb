{
 "cells": [
  {
   "cell_type": "code",
   "execution_count": 5,
   "metadata": {},
   "outputs": [
    {
     "name": "stdout",
     "output_type": "stream",
     "text": [
      "{'wert 1': 5, 'wert 2': 10}\n",
      "15\n"
     ]
    }
   ],
   "source": [
    "my_dict = {\"wert 1\": 5,\n",
    "           \"wert 2\": 10}\n",
    "print(my_dict)\n",
    "\n",
    "print(my_dict[\"wert 1\"]+my_dict[\"wert 2\"])\n",
    "\n",
    "\n"
   ]
  },
  {
   "cell_type": "markdown",
   "metadata": {},
   "source": [
    "Datenlesen"
   ]
  },
  {
   "cell_type": "code",
   "execution_count": 14,
   "metadata": {},
   "outputs": [
    {
     "name": "stdout",
     "output_type": "stream",
     "text": [
      "Klaus \t Baeumer \n",
      "Max \t Schmitt \n",
      "Lisa \t Schröder \n",
      "Klaus \t Baumeister \n",
      "\n"
     ]
    }
   ],
   "source": [
    "#my_file = open(\"data.txt\")\n",
    "#print(my_file.read())\n",
    "#print()\n",
    "\n",
    "with open(\"data.txt\", \"a\") as my_file:\n",
    "    my_file.write(\"Klaus \\t Baumeister \\n\" )\n",
    "    \n",
    "    \n",
    "with open(\"data.txt\") as my_file:\n",
    "    print(my_file.read())"
   ]
  }
 ],
 "metadata": {
  "kernelspec": {
   "display_name": "Python 3",
   "language": "python",
   "name": "python3"
  },
  "language_info": {
   "codemirror_mode": {
    "name": "ipython",
    "version": 3
   },
   "file_extension": ".py",
   "mimetype": "text/x-python",
   "name": "python",
   "nbconvert_exporter": "python",
   "pygments_lexer": "ipython3",
   "version": "3.12.2"
  }
 },
 "nbformat": 4,
 "nbformat_minor": 2
}
