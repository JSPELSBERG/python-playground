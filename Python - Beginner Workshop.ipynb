{
 "cells": [
  {
   "cell_type": "markdown",
   "id": "2cbb79a7",
   "metadata": {},
   "source": [
    "# Python Workshop for Beginners\n",
    "\n",
    "### Basics, Datentypen, Schleifen, Funktionen und Klassen, Idiome\n",
    "\n",
    "#### Einleitung\n",
    "Dieses Notebook enthält das gesamte Material des Workshops und dient als interaktive Resource.  \n",
    "Code-Zellen können mit Strg+Enter oder Shift+Enter ausgeführt werden."
   ]
  },
  {
   "cell_type": "markdown",
   "id": "dfea5e5d",
   "metadata": {},
   "source": [
    "## Basics\n",
    "> Python ist eine universelle, üblicherweise interpretierte, höhere Programmiersprache. Sie hat den Anspruch, einen gut lesbaren, knappen Programmierstil zu fördern.\n",
    "> \n",
    "> Python unterstützt mehrere Programmierparadigmen, z. B. die objektorientierte, die aspektorientierte und die funktionale Programmierung. Ferner bietet es eine dynamische Typisierung. Wie viele dynamische Sprachen wird Python oft als Skriptsprache genutzt.\n",
    "> — [Wikipedia](https://de.wikipedia.org/wiki/Python_(Programmiersprache))\n",
    "\n",
    "Python ist um die Idee herum aufgebaut, das Code in der Regel nur einmal geschrieben wird, aber viel öfter gelesen wird. Leserlichkeit ist deshalb eines der Hauptkonzepte und macht Python sehr einsteigerfreundlich.  \n",
    "Weitere Prinzipien sind im *Zen of Python* beschrieben:\n",
    "\n",
    "> Beautiful is better than ugly.  \n",
    "> Explicit is better than implicit.  \n",
    "> Simple is better than complex.  \n",
    "> Complex is better than complicated.  \n",
    "> Flat is better than nested.  \n",
    "> Sparse is better than dense.  \n",
    "> Readability counts.  \n",
    "> Special cases aren't special enough to break the rules.  \n",
    "> Although practicality beats purity.  \n",
    "> Errors should never pass silently.  \n",
    "> Unless explicitly silenced.  \n",
    "> In the face of ambiguity, refuse the temptation to guess.  \n",
    "> There should be one-- and preferably only one --obvious way to do it.  \n",
    "> Although that way may not be obvious at first unless you're Dutch.  \n",
    "> Now is better than never.  \n",
    "> Although never is often better than *right* now.  \n",
    "> If the implementation is hard to explain, it's a bad idea.  \n",
    "> If the implementation is easy to explain, it may be a good idea.  \n",
    "> Namespaces are one honking great idea -- let's do more of those!  \n",
    "> \n",
    "> — [The Zen of Python](https://peps.python.org/pep-0020/)\n",
    "\n",
    "#### Why you should care about Python\n",
    "\n",
    "Laut [TIOBE Index](https://www.tiobe.com/tiobe-index/) ist Python aktuell die am populärste — und am schnellsten wachsende — Programmiersprache der Welt und wird in nahezu allen Bereichen eingesetzt. Die einzige Ausnahme sind sicherheitskritische Embedded-Systeme.\n",
    "\n",
    "Zu den Stärken gehören schnelles Prototyping und ein riesiges Package-Repository. Egal was ihr für ein Problem habt, wahrscheinlich gibt es schon ein Paket das genau dieses Problem löst, oder es zumindest sehr einfach macht.\n",
    "\n",
    "Während in der Vergangenheit vor allem wissenschaftliche und ML Anwendungen stark auf Python gesetzt haben, ist die Verbreitung heute so groß, dass fast alle Tools die wir in unserem Projekt nutzen entweder direkte Python Entwicklungen sind oder SDKs oder Interfaces für Python zur Verfügung stellen:\n",
    "\n",
    "* [Azure Python SDK](https://docs.microsoft.com/en-us/azure/developer/python/sdk/azure-sdk-overview)\n",
    "* [AWS SDK for Python](https://aws.amazon.com/sdk-for-python/)\n",
    "* [Google Cloud API](https://cloud.google.com/python/docs/reference)\n",
    "* [Pyspark](https://spark.apache.org/docs/latest/api/python/getting_started/index.html)\n",
    "* [Apache Airflow](https://airflow.apache.org/)\n",
    "* [Django](https://www.djangoproject.com/)\n",
    "* SciPy\n",
    "* Pandas\n",
    "* NumPy\n",
    "* Tensorflow\n",
    "* Keras\n",
    "* Scikit-learn"
   ]
  },
  {
   "cell_type": "markdown",
   "id": "5bfac619",
   "metadata": {},
   "source": [
    "## Datentypen\n",
    "Neben den Standarddatentypen (int, float, bool, str) sind vor allem dictionaries äußerst nützlich und auch innerhalb der Python Standardlibrary sehr weit verbreitet\n",
    "<table><tr>\n",
    "<td> <img src=\"https://upload.wikimedia.org/wikipedia/commons/thumb/1/10/Python_3._The_standard_type_hierarchy.png/370px-Python_3._The_standard_type_hierarchy.png\" alt=\"Drawing\" style=\"width: 500px;\"/> </td>\n",
    "<td> <img src=\"https://paulvanderlaken.files.wordpress.com/2019/11/image-7.png\" alt=\"Drawing\" style=\"width: 500px;\"/> </td>\n",
    "</tr></table>"
   ]
  },
  {
   "cell_type": "code",
   "execution_count": 2,
   "id": "c08bc8f8",
   "metadata": {},
   "outputs": [
    {
     "name": "stdout",
     "output_type": "stream",
     "text": [
      "Listen:\n",
      "[1, 2, 3, 4, '5', 6, 7, 8, 9]\n",
      "1\n",
      "[1, 3, '5', 7]\n",
      "[[1, 2], 2, 3, 4, '5', 6, 7, 8, 9]\n",
      "Tupel:\n",
      "(1, 2, 3, 4, 5)\n",
      "(4, 5)\n",
      "\n",
      "1\n"
     ]
    }
   ],
   "source": [
    "# Listen\n",
    "print(\"Listen:\")\n",
    "my_list = [1,2,3,4,\"5\"]    # können verschiedene Datentypen enthalten\n",
    "my_list.append(6)          # können erweitert werden \n",
    "my_list.extend([7,8,9])    \n",
    "print(my_list)\n",
    "print(my_list[0])          # Index basierter Zugriff\n",
    "print(my_list[:8:2])       # Slicing\n",
    "my_list[0]=[1,2]           # Veränderbar\n",
    "print(my_list)\n",
    "\n",
    "print(\"Tupel:\")\n",
    "# Tupel sind wie Listen, können aber nicht verändert werden:\n",
    "my_tuple = (1,2,3,4,5)\n",
    "print(my_tuple)\n",
    "print(my_tuple[-2:])       # Slicing vom Ende her\n",
    "print()\n",
    "\n",
    "small_tuple = (1,2)\n",
    "a, b = small_tuple         # Entpacken in variablen\n",
    "print(a)"
   ]
  },
  {
   "cell_type": "code",
   "execution_count": 16,
   "id": "43a70803",
   "metadata": {},
   "outputs": [
    {
     "name": "stdout",
     "output_type": "stream",
     "text": [
      "{'key': 'value1', (0, 1): 'value2'}\n",
      "[1, 2]\n",
      "True\n"
     ]
    },
    {
     "ename": "TypeError",
     "evalue": "unhashable type: 'list'",
     "output_type": "error",
     "traceback": [
      "\u001b[0;31m---------------------------------------------------------------------------\u001b[0m",
      "\u001b[0;31mTypeError\u001b[0m                                 Traceback (most recent call last)",
      "\u001b[0;32m/tmp/ipykernel_3431/4145752727.py\u001b[0m in \u001b[0;36m<cell line: 13>\u001b[0;34m()\u001b[0m\n\u001b[1;32m     11\u001b[0m \u001b[0;34m\u001b[0m\u001b[0m\n\u001b[1;32m     12\u001b[0m \u001b[0ml\u001b[0m \u001b[0;34m=\u001b[0m \u001b[0;34m[\u001b[0m\u001b[0;36m2\u001b[0m\u001b[0;34m,\u001b[0m\u001b[0;36m3\u001b[0m\u001b[0;34m]\u001b[0m\u001b[0;34m\u001b[0m\u001b[0;34m\u001b[0m\u001b[0m\n\u001b[0;32m---> 13\u001b[0;31m \u001b[0mmy_dict\u001b[0m\u001b[0;34m[\u001b[0m\u001b[0ml\u001b[0m\u001b[0;34m]\u001b[0m \u001b[0;34m=\u001b[0m \u001b[0;34m\"spam\"\u001b[0m          \u001b[0;31m# Fehler! keys müssen unveränderlich sein!\u001b[0m\u001b[0;34m\u001b[0m\u001b[0;34m\u001b[0m\u001b[0m\n\u001b[0m",
      "\u001b[0;31mTypeError\u001b[0m: unhashable type: 'list'"
     ]
    }
   ],
   "source": [
    "# Dictionaries\n",
    "my_dict = {\"key\" : \"value1\", # mapping zwischen key: value\n",
    "           (0,1): \"value2\",\n",
    "          }\n",
    "print(my_dict)\n",
    "\n",
    "my_dict[\"key2\"] = [1,2]      # veränderbar\n",
    "print(my_dict[\"key2\"])       # indizierbar\n",
    "\n",
    "print(\"key\" in my_dict)      # Prüfung ob ein key im dictionary ist\n",
    "\n",
    "l = [2,3]\n",
    "my_dict[l] = \"spam\"          # Fehler! keys müssen unveränderlich sein!"
   ]
  },
  {
   "cell_type": "markdown",
   "id": "90d7ac18",
   "metadata": {},
   "source": [
    "## Schleifen\n",
    "For-Schleifen in Python können über alle iterierbaren Objekte ausgeführt werden:  \n",
    "* Listen\n",
    "* Tupel\n",
    "* Dictionaries (keys)\n",
    "* Sets\n",
    "* Strings\n",
    "* Generators\n",
    "* Iterators\n",
    "\n",
    "Im Gegensatz zu anderen Programmiersprachen wird standardmäßig *direkt* über die Elemente itteriert, nicht über einen Index"
   ]
  },
  {
   "cell_type": "code",
   "execution_count": 30,
   "id": "c274f84e",
   "metadata": {},
   "outputs": [
    {
     "name": "stdout",
     "output_type": "stream",
     "text": [
      "green\n",
      "red\n",
      "blue\n",
      "\n",
      "green\n",
      "red\n",
      "blue\n",
      "\n",
      "Sortiert:\n",
      "red\n",
      "green\n",
      "blue\n",
      "\n",
      "0 green\n",
      "1 red\n",
      "2 blue\n"
     ]
    }
   ],
   "source": [
    "colors = [\"green\", \"red\", \"blue\"]\n",
    "for i in range(len(colors)):           # iteration über index wie in Java oder C\n",
    "    print(colors[i])                   # sieht so umständlich aus, dass es nicht richtig sein *kann*\n",
    "print()\n",
    "\n",
    "for color in colors:                   # pythonic, for each in Java oder C++\n",
    "    print(color)\n",
    "print()\n",
    "\n",
    "print(\"Sortiert:\")\n",
    "for color in sorted(colors, reverse=True):\n",
    "    print(color)\n",
    "print()\n",
    "\n",
    "for idx, color in enumerate(colors):   # falls der Index gebraucht wird: enumerate\n",
    "    print(idx,color)"
   ]
  },
  {
   "cell_type": "code",
   "execution_count": 32,
   "id": "782f0cc1",
   "metadata": {},
   "outputs": [
    {
     "name": "stdout",
     "output_type": "stream",
     "text": [
      "bob: green\n",
      "peter: red\n"
     ]
    }
   ],
   "source": [
    "# Was ist mit mehreren Listen gleichzeitig? --> zip \n",
    "names = [\"bob\", \"peter\", \"lisa\"]\n",
    "\n",
    "for name, color in zip(names,colors):\n",
    "    if name == \"lisa\":\n",
    "        break\n",
    "    else:\n",
    "        print(name+\": \"+color) "
   ]
  },
  {
   "cell_type": "markdown",
   "id": "4b728afb",
   "metadata": {},
   "source": [
    "Viele nützliche Funktionen sind in dem Standardmodul [itertools](https://docs.python.org/3/library/itertools.html) zusammengefasst."
   ]
  },
  {
   "cell_type": "markdown",
   "id": "439cd55f",
   "metadata": {},
   "source": [
    "## Funktionen"
   ]
  },
  {
   "cell_type": "code",
   "execution_count": 35,
   "id": "9beb1feb",
   "metadata": {},
   "outputs": [
    {
     "name": "stdout",
     "output_type": "stream",
     "text": [
      "5\n",
      "5\n",
      "6\n"
     ]
    }
   ],
   "source": [
    "def my_add(a,b):       # Funktionsdefinition\n",
    "    return a+b\n",
    "\n",
    "print(my_add(2,3))     # Aufruf\n",
    "\n",
    "def my_add(a,b,c=0):   # Funktionsdefinition mit default Werten\n",
    "    return a+b+c\n",
    "\n",
    "print(my_add(2,3))\n",
    "print(my_add(2,3,1))"
   ]
  },
  {
   "cell_type": "code",
   "execution_count": null,
   "id": "d75bc564",
   "metadata": {},
   "outputs": [],
   "source": [
    "# Best practise: keyword arguments nutzen!\n",
    "twitter_search(\"obama\",20,False,True)                                # was bedeuten die Argumente??\n",
    "twitter_search(\"obama\", numteweets=20, retweets=False, unicode=True) # viel lesbarer!"
   ]
  },
  {
   "cell_type": "code",
   "execution_count": 36,
   "id": "a1270b7a",
   "metadata": {},
   "outputs": [
    {
     "name": "stdout",
     "output_type": "stream",
     "text": [
      "Additional keyword arguments are {'additional': 'spam'}\n",
      "10\n"
     ]
    }
   ],
   "source": [
    "def my_add(a,b,*args,**kwargs):                           # *args und **kwargs können für beliebige anzahl an argumenten stehen\n",
    "    if kwargs:                                            # args ist ein Tupel, kwargs ist ein Dictionary\n",
    "        print(\"Additional keyword arguments are\",kwargs)  # nützlich vor allem zum durchreichen von argumenten an andere funktionen\n",
    "    return a+b+sum(args)\n",
    "\n",
    "print(my_add(1,2,3,4,additional=\"spam\"))"
   ]
  },
  {
   "cell_type": "code",
   "execution_count": 3,
   "id": "f0dfb437",
   "metadata": {},
   "outputs": [
    {
     "name": "stdout",
     "output_type": "stream",
     "text": [
      "3\n",
      "5\n"
     ]
    }
   ],
   "source": [
    "# * (ent)packt iterierbare objekte, ** (ent)packt Dictionaries\n",
    "my_tuple = (1,2)\n",
    "my_dict = {\"a\": 2, \"b\":3}\n",
    "\n",
    "def my_add(a,b):\n",
    "    return a+b\n",
    "\n",
    "print(my_add(*my_tuple))\n",
    "\n",
    "print(my_add(**my_dict))"
   ]
  },
  {
   "cell_type": "code",
   "execution_count": 4,
   "id": "beeead63",
   "metadata": {},
   "outputs": [
    {
     "name": "stdout",
     "output_type": "stream",
     "text": [
      "#####\n",
      "# 5 #\n",
      "#####\n",
      "#######\n",
      "# 109 #\n",
      "#######\n"
     ]
    }
   ],
   "source": [
    "def hashbox_print(fcn, *args,**kwargs):          # Funktionen sind 1. class Objekte und können ganz normal übergeben werden\n",
    "    result_string = str( fcn(*args,**kwargs) )   # *args und **kwargs werden weitergereicht\n",
    "    print(\"#\"*(len(result_string)+4))\n",
    "    print(\"# \"+result_string+\" #\")\n",
    "    print(\"#\"*(len(result_string)+4))\n",
    "\n",
    "hashbox_print(my_add,2,3)                        # my_add() ruft die Funktion auf, my_add ist das Funktionsobjekt\n",
    "hashbox_print(my_add,54,55)"
   ]
  },
  {
   "cell_type": "markdown",
   "id": "7589a85d",
   "metadata": {},
   "source": [
    "### Anonyme Funktionen\n",
    "Werden kurze Funktionen (oft als Parameter für andere Funktionen) benötigt, können lambdas genutzt werden. Diese sind kurzlebige, anonyme Funktionen ohne Namen."
   ]
  },
  {
   "cell_type": "code",
   "execution_count": 5,
   "id": "58b47103",
   "metadata": {},
   "outputs": [
    {
     "name": "stdout",
     "output_type": "stream",
     "text": [
      "#####\n",
      "# 6 #\n",
      "#####\n"
     ]
    }
   ],
   "source": [
    "hashbox_print(lambda x,y: x*y, 2,3)"
   ]
  },
  {
   "cell_type": "markdown",
   "id": "c2cd38fc",
   "metadata": {},
   "source": [
    "### Parameterübergabe\n",
    "Python verwendet pass-by-object-reference, in-place Änderungen von mutable Objekten haben einen Effekt außerhalb der Funktion, Zuweisungen hingegen nicht!  \n",
    "**Best practice:** Funktionen sollten keine Parameter verändern, sondern neue Objekte erzeugen und diese zurückgeben. "
   ]
  },
  {
   "cell_type": "code",
   "execution_count": 6,
   "id": "affd0565",
   "metadata": {},
   "outputs": [
    {
     "name": "stdout",
     "output_type": "stream",
     "text": [
      "[0]\n",
      "[0, 1]\n"
     ]
    }
   ],
   "source": [
    "def reassign(var):\n",
    "    var = [0,1]\n",
    "    \n",
    "def append(var):\n",
    "    var.append(1)\n",
    "    \n",
    "my_list = [0]\n",
    "reassign(my_list)\n",
    "print(my_list)\n",
    "append(my_list)\n",
    "print(my_list)"
   ]
  },
  {
   "cell_type": "markdown",
   "id": "7d1b5738",
   "metadata": {},
   "source": [
    "## Exception Handling\n",
    "> I asked God for a bike, but I know God doesn't work that way. So I stole a bike and asked for forgiveness.\n",
    ">\n",
    "> — Emo Philips\n",
    "\n",
    "In Python gilt das Prinzip *Easier to Ask for Forgiveness than Permission* als best-practice (im Gegensatz zu *Look Before You Leap*).  \n",
    "Exceptions können mit dem try / except / finally Konstrukt abgefangen und gemanaged werden."
   ]
  },
  {
   "cell_type": "code",
   "execution_count": 17,
   "id": "4a49c902",
   "metadata": {},
   "outputs": [
    {
     "name": "stdout",
     "output_type": "stream",
     "text": [
      "division by zero\n",
      "Finishing up.\n"
     ]
    }
   ],
   "source": [
    "a = 10\n",
    "b = 0\n",
    "\n",
    "try:                                # Code der eine Exception erzeugen könnte innerhalb try\n",
    "    c = a / b\n",
    "    print(c)\n",
    "except ZeroDivisionError as error:  # Fehler wird abgefangen falls Exception aufgetreten\n",
    "    print(error)                    # Error-Handling\n",
    "finally:                            # Finally Block wird IMMER ausgeführt, egal ob es einen Fehler gab oder nicht\n",
    "    print('Finishing up.')          "
   ]
  },
  {
   "cell_type": "markdown",
   "id": "6fb6e6e1",
   "metadata": {},
   "source": [
    "## Klassen"
   ]
  },
  {
   "cell_type": "code",
   "execution_count": 60,
   "id": "ae9fc09b",
   "metadata": {},
   "outputs": [
    {
     "name": "stdout",
     "output_type": "stream",
     "text": [
      "My name is Bob, I'm 32 years old\n"
     ]
    },
    {
     "data": {
      "text/plain": [
       "<__main__.Person at 0x7f6540d45de0>"
      ]
     },
     "execution_count": 60,
     "metadata": {},
     "output_type": "execute_result"
    }
   ],
   "source": [
    "class Person:\n",
    "    def __init__(self, name, age):                           # Initialisierung (NICHT der Konstruktor)\n",
    "        self.name = name\n",
    "        self.age = age\n",
    "    \n",
    "    def say_hello(self):\n",
    "        print(f\"My name is {self.name}, I'm {self.age} years old\")\n",
    "\n",
    "bob = Person(\"Bob\",32)\n",
    "bob.say_hello()"
   ]
  },
  {
   "cell_type": "markdown",
   "id": "d9d216a1",
   "metadata": {},
   "source": [
    "Dunder Methoden zB \\_\\_init\\_\\_ sind Methoden mit spezieller Funktion, die von built-in Funktionen aufgerufen werden oder die Logik für Operatoren implementieren.\n",
    "\n",
    "Eine (unvollständige) Übersicht:\n",
    "* \\_\\_init\\_\\_ \n",
    "* \\_\\_repr\\_\\_ \n",
    "* \\_\\_str\\_\\_ \n",
    "* \\_\\_lt\\_\\_ \n",
    "* \\_\\_le\\_\\_ \n",
    "* \\_\\_eq\\_\\_ \n",
    "* \\_\\_ne\\_\\_ \n",
    "* \\_\\_ge\\_\\_ \n",
    "* \\_\\_gt\\_\\_ \n",
    "* \\_\\_bool\\_\\_\n",
    "* \\_\\_call\\_\\_\n",
    "* \\_\\_len\\_\\_\n",
    "* \\_\\_add\\_\\_\n",
    "* \\_\\_sub\\_\\_\n",
    "* \\_\\_mul\\_\\_\n",
    "* \\_\\_enter\\_\\_\n",
    "* \\_\\_exit\\_\\_\n",
    "* \\_\\_iter\\_\\_"
   ]
  },
  {
   "cell_type": "code",
   "execution_count": 1,
   "id": "9506f69f",
   "metadata": {},
   "outputs": [
    {
     "data": {
      "text/plain": [
       "[<Person 'Alice'>, <Person 'Bob'>]"
      ]
     },
     "execution_count": 1,
     "metadata": {},
     "output_type": "execute_result"
    }
   ],
   "source": [
    "class Person:\n",
    "    def __init__(self, name, age):\n",
    "        self.name = name\n",
    "        self.age = age\n",
    "    \n",
    "    def say_hello(self):\n",
    "        print(f\"My name is {self.name}, I'm {self.age} years old\")\n",
    "        \n",
    "    def __str__(self):                               # wird von print() oder str() genutzt\n",
    "        return f\"{self.name}: {self.age} years old\"\n",
    "    \n",
    "    def __repr__(self):                              # wird genutzt um ein objekt darzustellen\n",
    "        return f\"<Person '{self.name}'>\"\n",
    "    \n",
    "    def __lt__(self,other):                          # < operator\n",
    "        return self.age < other.age\n",
    "      \n",
    "    def __gt__(self,other):                          # > operator\n",
    "        return self.age > other.age\n",
    "    \n",
    "alice = Person(\"Alice\",25)\n",
    "bob = Person(\"Bob\",32)\n",
    "\n",
    "list(sorted([bob,alice]))"
   ]
  },
  {
   "cell_type": "code",
   "execution_count": 2,
   "id": "5b8f964c",
   "metadata": {},
   "outputs": [
    {
     "name": "stdout",
     "output_type": "stream",
     "text": [
      "My name is Lisa, I'm 29 years old\n",
      "I'm working as Consultant\n"
     ]
    }
   ],
   "source": [
    "class Employee(Person):                     # Vererbung\n",
    "    def __init__(self,name, age, job):\n",
    "        super().__init__(name, age)\n",
    "        self.job = job\n",
    "    \n",
    "    def job_descr(self):\n",
    "        print(f\"I'm working as {self.job}\")\n",
    "        \n",
    "lisa = Employee(\"Lisa\",29, \"Consultant\")\n",
    "lisa.say_hello()\n",
    "lisa.job_descr()"
   ]
  },
  {
   "cell_type": "code",
   "execution_count": 69,
   "id": "00cedde7",
   "metadata": {},
   "outputs": [
    {
     "name": "stdout",
     "output_type": "stream",
     "text": [
      "name='Alice': age=25\n",
      "name='Bob': age=32\n",
      "name='Lisa': age=29\n"
     ]
    }
   ],
   "source": [
    "class Persons:\n",
    "    def __init__(self,persons):\n",
    "        self.persons = persons\n",
    "    \n",
    "    def __iter__(self):                         # macht Persons iterable\n",
    "        for person in self.persons:\n",
    "            yield (person.name, person.age)     # yield macht aus der Funktion eine generator Funktion\n",
    "            \n",
    "for name,age in Persons([alice,bob,lisa]):\n",
    "    print(f\"{name=}: {age=}\")"
   ]
  },
  {
   "cell_type": "markdown",
   "id": "974fb06b",
   "metadata": {},
   "source": [
    "### Polymorphismus und Duck Typing\n",
    "> If it swims like a duck, looks like a duck and quacks like a duck, it's probably a **duck**"
   ]
  },
  {
   "cell_type": "code",
   "execution_count": 6,
   "id": "cc6092f7",
   "metadata": {},
   "outputs": [
    {
     "name": "stdout",
     "output_type": "stream",
     "text": [
      "Woof!\n",
      "Meow!\n",
      "Moo!\n"
     ]
    }
   ],
   "source": [
    "from abc import ABC, abstractmethod\n",
    "\n",
    "class Animal(ABC):         # Abstrakte Klasse\n",
    "    \n",
    "    @abstractmethod        # die folgende Funktion MUSS überschrieben werden\n",
    "    def make_noise(self):\n",
    "        pass\n",
    "\n",
    "class Dog(Animal):         # implementiert Animal\n",
    "    \n",
    "    def make_noise(self):  # überschreibt die abstrakte Funktion\n",
    "        print(\"Woof!\")    \n",
    "\n",
    "class Cat(Animal):         # implementiert Animal\n",
    "    \n",
    "    def make_noise(self):  # überschreibt die abstrakte Funktion\n",
    "        print(\"Meow!\")\n",
    "        \n",
    "def say_hello(animal):     # generische Funktion\n",
    "    animal.make_noise()    # ruft Methode einer Instanz auf\n",
    "\n",
    "say_hello(Dog())\n",
    "say_hello(Cat())\n",
    "\n",
    "class Duck:                # erbt NICHT von Animal\n",
    "    \n",
    "    def make_noise(self):  # implementiert Funktion mit selbem Namen\n",
    "        print(\"Quack!\")\n",
    "        \n",
    "say_hello(Duck())           # Duck Typing!"
   ]
  },
  {
   "cell_type": "markdown",
   "id": "c156df90",
   "metadata": {},
   "source": [
    "## Idiome\n",
    "Idiomatisches Python ist oft lesbarer und performanter!\n",
    "\n",
    "### Schleifen und Comprehensions\n",
    "Die Basics wurden oben schon besprochen, es sollte immer direkt über eine Liste / Tuple / ... iteriert werden, nicht über einen Index.  \n",
    "Ein häufig vorkommender Fall ist das bilden einer Liste oder eines Dictionaries in einer loop. Dafür gibt es list und dict comprehensions sowie generator expressions:"
   ]
  },
  {
   "cell_type": "code",
   "execution_count": 32,
   "id": "4ba9dc6b",
   "metadata": {},
   "outputs": [],
   "source": [
    "from hashlib import md5\n",
    "\n",
    "def hash(obj):\n",
    "    string = str(obj)\n",
    "    return md5(string.encode()).hexdigest()\n",
    "\n",
    "iterations = 10_000\n",
    "\n",
    "# schlecht, mehrere Zeilen für eine Sache die wir erreichen wollen\n",
    "my_list = []\n",
    "for idx in range(iterations):\n",
    "    my_list.append(hash(idx))\n",
    "    \n",
    "# besser, eine Sache = eine Zeile mit list comprehension\n",
    "my_list2 = [hash(idx) for idx in range(iterations)]"
   ]
  },
  {
   "cell_type": "code",
   "execution_count": 28,
   "id": "754ac034",
   "metadata": {},
   "outputs": [
    {
     "name": "stdout",
     "output_type": "stream",
     "text": [
      "[0, 2, 4, 6, 8, 10, 12, 14, 16, 18, 20, 22, 24, 26, 28, 30, 32, 34, 36, 38, 40, 42, 44, 46, 48, 50, 52, 54, 56, 58, 60, 62, 64, 66, 68, 70, 72, 74, 76, 78, 80, 82, 84, 86, 88, 90, 92, 94, 96, 98]\n"
     ]
    }
   ],
   "source": [
    "# list comprehensions können zusätzliche filter regeln enthalten\n",
    "even_numbers = [i for i in range(100) if i % 2 ==0]\n",
    "print(even_numbers)"
   ]
  },
  {
   "cell_type": "code",
   "execution_count": 37,
   "id": "221cb935",
   "metadata": {},
   "outputs": [
    {
     "data": {
      "text/plain": [
       "[(2, 4, 8),\n",
       " (2, 4, 9),\n",
       " (3, 3, 7),\n",
       " (3, 3, 8),\n",
       " (3, 3, 9),\n",
       " (3, 4, 4),\n",
       " (3, 4, 5),\n",
       " (3, 4, 6),\n",
       " (3, 4, 7),\n",
       " (3, 4, 8),\n",
       " (3, 4, 9),\n",
       " (4, 2, 8),\n",
       " (4, 2, 9),\n",
       " (4, 3, 4),\n",
       " (4, 3, 5),\n",
       " (4, 3, 6),\n",
       " (4, 3, 7),\n",
       " (4, 3, 8),\n",
       " (4, 3, 9),\n",
       " (4, 4, 0),\n",
       " (4, 4, 1),\n",
       " (4, 4, 2),\n",
       " (4, 4, 3),\n",
       " (4, 4, 4),\n",
       " (4, 4, 5),\n",
       " (4, 4, 6),\n",
       " (4, 4, 7),\n",
       " (4, 4, 8),\n",
       " (4, 4, 9),\n",
       " (5, 2, 6),\n",
       " (5, 2, 7),\n",
       " (5, 2, 8),\n",
       " (5, 2, 9),\n",
       " (5, 3, 1),\n",
       " (5, 3, 2),\n",
       " (5, 3, 3),\n",
       " (5, 3, 4),\n",
       " (5, 3, 5),\n",
       " (5, 3, 6),\n",
       " (5, 3, 7),\n",
       " (5, 3, 8),\n",
       " (5, 3, 9),\n",
       " (5, 4, 0),\n",
       " (5, 4, 1),\n",
       " (5, 4, 2),\n",
       " (5, 4, 3),\n",
       " (5, 4, 4),\n",
       " (5, 4, 5),\n",
       " (5, 4, 6),\n",
       " (5, 4, 7),\n",
       " (5, 4, 8),\n",
       " (5, 4, 9),\n",
       " (6, 2, 4),\n",
       " (6, 2, 5),\n",
       " (6, 2, 6),\n",
       " (6, 2, 7),\n",
       " (6, 2, 8),\n",
       " (6, 2, 9),\n",
       " (6, 3, 0),\n",
       " (6, 3, 1),\n",
       " (6, 3, 2),\n",
       " (6, 3, 3),\n",
       " (6, 3, 4),\n",
       " (6, 3, 5),\n",
       " (6, 3, 6),\n",
       " (6, 3, 7),\n",
       " (6, 3, 8),\n",
       " (6, 3, 9),\n",
       " (6, 4, 0),\n",
       " (6, 4, 1),\n",
       " (6, 4, 2),\n",
       " (6, 4, 3),\n",
       " (6, 4, 4),\n",
       " (6, 4, 5),\n",
       " (6, 4, 6),\n",
       " (6, 4, 7),\n",
       " (6, 4, 8),\n",
       " (6, 4, 9),\n",
       " (7, 1, 9),\n",
       " (7, 2, 2),\n",
       " (7, 2, 3),\n",
       " (7, 2, 4),\n",
       " (7, 2, 5),\n",
       " (7, 2, 6),\n",
       " (7, 2, 7),\n",
       " (7, 2, 8),\n",
       " (7, 2, 9),\n",
       " (7, 3, 0),\n",
       " (7, 3, 1),\n",
       " (7, 3, 2),\n",
       " (7, 3, 3),\n",
       " (7, 3, 4),\n",
       " (7, 3, 5),\n",
       " (7, 3, 6),\n",
       " (7, 3, 7),\n",
       " (7, 3, 8),\n",
       " (7, 3, 9),\n",
       " (7, 4, 0),\n",
       " (7, 4, 1),\n",
       " (7, 4, 2),\n",
       " (7, 4, 3),\n",
       " (7, 4, 4),\n",
       " (7, 4, 5),\n",
       " (7, 4, 6),\n",
       " (7, 4, 7),\n",
       " (7, 4, 8),\n",
       " (7, 4, 9),\n",
       " (8, 1, 8),\n",
       " (8, 1, 9),\n",
       " (8, 2, 0),\n",
       " (8, 2, 1),\n",
       " (8, 2, 2),\n",
       " (8, 2, 3),\n",
       " (8, 2, 4),\n",
       " (8, 2, 5),\n",
       " (8, 2, 6),\n",
       " (8, 2, 7),\n",
       " (8, 2, 8),\n",
       " (8, 2, 9),\n",
       " (8, 3, 0),\n",
       " (8, 3, 1),\n",
       " (8, 3, 2),\n",
       " (8, 3, 3),\n",
       " (8, 3, 4),\n",
       " (8, 3, 5),\n",
       " (8, 3, 6),\n",
       " (8, 3, 7),\n",
       " (8, 3, 8),\n",
       " (8, 3, 9),\n",
       " (8, 4, 0),\n",
       " (8, 4, 1),\n",
       " (8, 4, 2),\n",
       " (8, 4, 3),\n",
       " (8, 4, 4),\n",
       " (8, 4, 5),\n",
       " (8, 4, 6),\n",
       " (8, 4, 7),\n",
       " (8, 4, 8),\n",
       " (8, 4, 9),\n",
       " (9, 1, 7),\n",
       " (9, 1, 8),\n",
       " (9, 1, 9),\n",
       " (9, 2, 0),\n",
       " (9, 2, 1),\n",
       " (9, 2, 2),\n",
       " (9, 2, 3),\n",
       " (9, 2, 4),\n",
       " (9, 2, 5),\n",
       " (9, 2, 6),\n",
       " (9, 2, 7),\n",
       " (9, 2, 8),\n",
       " (9, 2, 9),\n",
       " (9, 3, 0),\n",
       " (9, 3, 1),\n",
       " (9, 3, 2),\n",
       " (9, 3, 3),\n",
       " (9, 3, 4),\n",
       " (9, 3, 5),\n",
       " (9, 3, 6),\n",
       " (9, 3, 7),\n",
       " (9, 3, 8),\n",
       " (9, 3, 9),\n",
       " (9, 4, 0),\n",
       " (9, 4, 1),\n",
       " (9, 4, 2),\n",
       " (9, 4, 3),\n",
       " (9, 4, 4),\n",
       " (9, 4, 5),\n",
       " (9, 4, 6),\n",
       " (9, 4, 7),\n",
       " (9, 4, 8),\n",
       " (9, 4, 9)]"
      ]
     },
     "execution_count": 37,
     "metadata": {},
     "output_type": "execute_result"
    }
   ],
   "source": [
    "# übertreibt es nicht, mehrere loops in einer comprehension sind selten eine gute Idee\n",
    "result = [(x,y,z) for x in range(10) for y in range(5) for z in range(10) if x*y+z>15]"
   ]
  },
  {
   "cell_type": "code",
   "execution_count": 25,
   "id": "6d50b0f5",
   "metadata": {},
   "outputs": [],
   "source": [
    "names = [\"bob\", \"peter\", \"lisa\"]\n",
    "colors = [\"green\", \"red\", \"blue\"]\n",
    "\n",
    "# schlecht\n",
    "my_dict = {}\n",
    "for name, color in zip(names,colors):\n",
    "    my_dict[name]=color\n",
    "    \n",
    "# besser\n",
    "my_dict2 = {name: color for name,color in zip(names,colors)}"
   ]
  },
  {
   "cell_type": "markdown",
   "id": "df053ef9",
   "metadata": {},
   "source": [
    "### If Bedingung: Truthy und Falsey Werte"
   ]
  },
  {
   "cell_type": "code",
   "execution_count": null,
   "id": "b40f0b28",
   "metadata": {},
   "outputs": [],
   "source": [
    "# Pythonic if: \"truthy\" und \"falsey\"\n",
    "if 1:\n",
    "    print(\"numbers are considered True...\")\n",
    "if not 0:\n",
    "    print(\"...unless they are 0\")\n",
    "\n",
    "if \"a\":\n",
    "    print(\"strings are considered True...\")\n",
    "if not \"\":\n",
    "    print(\"...unless they are empty\")\n",
    "\n",
    "if colors:\n",
    "    print(\"lists are considered True...\")\n",
    "if not []:\n",
    "    print(\"...unless they are empty\")\n",
    "    \n",
    "# Gilt für alle eingebauten Datentypen und für viele erweiterte"
   ]
  },
  {
   "cell_type": "markdown",
   "id": "64aba4d6",
   "metadata": {},
   "source": [
    "### Contextmanagers\n",
    "Häufig werden in Programmen Resourcen genutzt, die explizit wieder freigegeben werden müssen, z.B. Files, Locks, Semaphores etc.  \n",
    "Das Problem dabei: was wenn während der Verarbeitung Fehler auftreten und den Ablauf verändern? Klassisch muss alles in try / except Blöcke gefasst werden.  \n",
    "In Python "
   ]
  },
  {
   "cell_type": "code",
   "execution_count": null,
   "id": "c4bb14dc",
   "metadata": {},
   "outputs": [],
   "source": [
    "# schlecht:\n",
    "f = open('data.txt')\n",
    "try:\n",
    "    data = f.read()\n",
    "finally:\n",
    "    f.close()\n",
    "\n",
    "# besser:\n",
    "with open('data.txt') as f:\n",
    "    data = f.read()"
   ]
  },
  {
   "cell_type": "markdown",
   "id": "a390b12d",
   "metadata": {},
   "source": [
    "### Generator Funktionen und Expressions\n",
    "Listen haben einen Nachteil bei sehr großen Datenmengen: sie werden komplett im Speicher vorgehalten. Oft ist das nicht nötig, sondern wir wollen nur eine Berechnung / Aggregation auf die Elemente durchführen. Hier kommen generator Funktionen ins Spiel."
   ]
  },
  {
   "cell_type": "code",
   "execution_count": 25,
   "id": "f652b0f1",
   "metadata": {},
   "outputs": [
    {
     "name": "stdout",
     "output_type": "stream",
     "text": [
      "8448728\n",
      "104\n"
     ]
    },
    {
     "data": {
      "text/plain": [
       "<generator object <genexpr> at 0x7f67c878a8f0>"
      ]
     },
     "execution_count": 25,
     "metadata": {},
     "output_type": "execute_result"
    }
   ],
   "source": [
    "import sys\n",
    "\n",
    "iterations = int(1e6)\n",
    "\n",
    "squared_list = [x**2 for x in range(iterations)]  # eckige Klammern --> list comprehension\n",
    "squared_gen = (x**2 for x in range(iterations))   # runde Klammern --> generator expression\n",
    "\n",
    "\n",
    "print(sys.getsizeof(squared_list))\n",
    "print(sys.getsizeof(squared_gen))\n",
    "\n",
    "squared_gen  # Generator Objekt, Evaluierung ist lazy"
   ]
  },
  {
   "cell_type": "code",
   "execution_count": 26,
   "id": "cd2dea1e",
   "metadata": {},
   "outputs": [
    {
     "name": "stdout",
     "output_type": "stream",
     "text": [
      "0\n",
      "40000000000\n",
      "160000000000\n",
      "360000000000\n",
      "640000000000\n"
     ]
    }
   ],
   "source": [
    "import math\n",
    "\n",
    "for value in squared_gen:              # Generator Objekte sind iterierbar\n",
    "    if math.sqrt(value) % 200000 == 0:\n",
    "        print(value)"
   ]
  },
  {
   "cell_type": "code",
   "execution_count": null,
   "id": "b559ac41",
   "metadata": {},
   "outputs": [],
   "source": [
    "for value in squared_gen:              # Generator Objekte sind nach einem mal erschöpft, Listen bleiben erhalten!\n",
    "    if math.sqrt(value) % 200000 == 0:\n",
    "        print(value)"
   ]
  },
  {
   "cell_type": "markdown",
   "id": "2e0efff4",
   "metadata": {},
   "source": [
    "**Best practice**: bei sehr großen Datenmengen sollten Generator Expressions genutzt werden, falls die Daten nur einmal gebraucht werden.  \n",
    "In Python 3 sind fast alle Funktionen der Standard Library iterator / generator und können mit diesen umgehen."
   ]
  },
  {
   "cell_type": "code",
   "execution_count": 1,
   "id": "8519af7d",
   "metadata": {},
   "outputs": [],
   "source": [
    "# Generator Funktionen werden bei einem yield unterbrochen und behalten ihren Zustand:\n",
    "def counter_gen():\n",
    "    value = 0                # Initialisierung\n",
    "    while True:       \n",
    "        value += 1\n",
    "        yield value          # Gibt den aktuellen Wert zurück und pausiert den generator\n",
    "\n",
    "def counter_fcn():            # Alternative mit normaler Funktion\n",
    "    counter_fcn.value += 1    # Trick um Zustand zu behalten\n",
    "    return counter_fcn.value  \n",
    "counter_fcn.value = 0         # Initialisierung, außerhalb der Definition!"
   ]
  },
  {
   "cell_type": "code",
   "execution_count": null,
   "id": "b403dc89",
   "metadata": {},
   "outputs": [],
   "source": [
    "for idx in range(3):\n",
    "    print(counter_fcn())"
   ]
  },
  {
   "cell_type": "code",
   "execution_count": 11,
   "id": "0a5d0197",
   "metadata": {},
   "outputs": [
    {
     "name": "stdout",
     "output_type": "stream",
     "text": [
      "1\n",
      "2\n",
      "3\n"
     ]
    }
   ],
   "source": [
    "counter = counter_gen()\n",
    "for idx in range(3):\n",
    "    print(next(counter))"
   ]
  },
  {
   "cell_type": "code",
   "execution_count": 1,
   "id": "0a6c9621",
   "metadata": {},
   "outputs": [
    {
     "name": "stdout",
     "output_type": "stream",
     "text": [
      "1\n",
      "2\n",
      "3\n"
     ]
    }
   ],
   "source": [
    "def create_counter():         # Alternative 2 mit geschachtelter Funktion\n",
    "    value = 0                 # Initialisierung\n",
    "    def counter_fcn():        # inner Funktion\n",
    "        nonlocal value        # erlaubt es value zu verändern\n",
    "        value += 1\n",
    "        return value          # return der inneren Funktion\n",
    "    return counter_fcn        # äußere Funktion gibt innere Funktion zurück\n",
    "\n",
    "counter = create_counter()\n",
    "for idx in range(3):\n",
    "    print(counter())"
   ]
  },
  {
   "cell_type": "code",
   "execution_count": 5,
   "id": "18ebe206",
   "metadata": {},
   "outputs": [
    {
     "name": "stdout",
     "output_type": "stream",
     "text": [
      "3\n",
      "2\n",
      "1\n",
      "Liftoff!\n"
     ]
    }
   ],
   "source": [
    "def countdown(n):\n",
    "    value = n\n",
    "    while True:\n",
    "        if value == 0:\n",
    "            yield \"Liftoff!\"\n",
    "            break\n",
    "        else:\n",
    "            yield value\n",
    "            value-=1\n",
    "for i in countdown(3):\n",
    "    print(i)"
   ]
  },
  {
   "cell_type": "markdown",
   "id": "32764e48",
   "metadata": {},
   "source": [
    "## Monkey Patching und Pythons Import Funktionalität\n",
    "Der Python-Interpreter importiert Module nur ein einziges mal. Das erlaubt das Ersetzen (monkey patch) von beliebigen Teilen vom Code für alle folgenden Programmteile. "
   ]
  },
  {
   "cell_type": "code",
   "execution_count": 7,
   "id": "3f538c22",
   "metadata": {},
   "outputs": [
    {
     "name": "stdout",
     "output_type": "stream",
     "text": [
      "foo\n",
      "bar\n"
     ]
    }
   ],
   "source": [
    "class Foo:\n",
    "    def __str__(self):\n",
    "        return \"foo\"\n",
    "    \n",
    "f = Foo()\n",
    "print(f)\n",
    "Foo.__str__ = lambda self: \"bar\"\n",
    "print(f)"
   ]
  },
  {
   "cell_type": "code",
   "execution_count": null,
   "id": "d133795b",
   "metadata": {},
   "outputs": [],
   "source": [
    "import builtins\n",
    "old_print = builtins.print\n",
    "\n",
    "def new_print(value):\n",
    "    old_print(\"debug\")\n",
    "    old_print(value)\n",
    "    \n",
    "builtins.print = new_print"
   ]
  },
  {
   "cell_type": "code",
   "execution_count": 20,
   "id": "1aacaf41",
   "metadata": {},
   "outputs": [
    {
     "ename": "RecursionError",
     "evalue": "maximum recursion depth exceeded",
     "output_type": "error",
     "traceback": [
      "\u001b[0;31m---------------------------------------------------------------------------\u001b[0m",
      "\u001b[0;31mRecursionError\u001b[0m                            Traceback (most recent call last)",
      "\u001b[0;32m/tmp/ipykernel_4090/3348042513.py\u001b[0m in \u001b[0;36m<cell line: 10>\u001b[0;34m()\u001b[0m\n\u001b[1;32m      8\u001b[0m \u001b[0mbuiltins\u001b[0m\u001b[0;34m.\u001b[0m\u001b[0mprint\u001b[0m \u001b[0;34m=\u001b[0m \u001b[0mnew_print\u001b[0m\u001b[0;34m\u001b[0m\u001b[0;34m\u001b[0m\u001b[0m\n\u001b[1;32m      9\u001b[0m \u001b[0;34m\u001b[0m\u001b[0m\n\u001b[0;32m---> 10\u001b[0;31m \u001b[0mprint\u001b[0m\u001b[0;34m(\u001b[0m\u001b[0;34m\"test\"\u001b[0m\u001b[0;34m)\u001b[0m\u001b[0;34m\u001b[0m\u001b[0;34m\u001b[0m\u001b[0m\n\u001b[0m",
      "\u001b[0;32m/tmp/ipykernel_4090/3348042513.py\u001b[0m in \u001b[0;36mnew_print\u001b[0;34m(value)\u001b[0m\n\u001b[1;32m      3\u001b[0m \u001b[0;34m\u001b[0m\u001b[0m\n\u001b[1;32m      4\u001b[0m \u001b[0;32mdef\u001b[0m \u001b[0mnew_print\u001b[0m\u001b[0;34m(\u001b[0m\u001b[0mvalue\u001b[0m\u001b[0;34m)\u001b[0m\u001b[0;34m:\u001b[0m\u001b[0;34m\u001b[0m\u001b[0;34m\u001b[0m\u001b[0m\n\u001b[0;32m----> 5\u001b[0;31m     \u001b[0mold_print\u001b[0m\u001b[0;34m(\u001b[0m\u001b[0;34m\"debug\"\u001b[0m\u001b[0;34m)\u001b[0m\u001b[0;34m\u001b[0m\u001b[0;34m\u001b[0m\u001b[0m\n\u001b[0m\u001b[1;32m      6\u001b[0m     \u001b[0mold_print\u001b[0m\u001b[0;34m(\u001b[0m\u001b[0mvalue\u001b[0m\u001b[0;34m)\u001b[0m\u001b[0;34m\u001b[0m\u001b[0;34m\u001b[0m\u001b[0m\n\u001b[1;32m      7\u001b[0m \u001b[0;34m\u001b[0m\u001b[0m\n",
      "\u001b[0;32m/tmp/ipykernel_4090/2813116114.py\u001b[0m in \u001b[0;36mnew_print\u001b[0;34m(value)\u001b[0m\n\u001b[1;32m      3\u001b[0m \u001b[0;34m\u001b[0m\u001b[0m\n\u001b[1;32m      4\u001b[0m \u001b[0;32mdef\u001b[0m \u001b[0mnew_print\u001b[0m\u001b[0;34m(\u001b[0m\u001b[0mvalue\u001b[0m\u001b[0;34m)\u001b[0m\u001b[0;34m:\u001b[0m\u001b[0;34m\u001b[0m\u001b[0;34m\u001b[0m\u001b[0m\n\u001b[0;32m----> 5\u001b[0;31m     \u001b[0mold_print\u001b[0m\u001b[0;34m(\u001b[0m\u001b[0;34m\"debug\"\u001b[0m\u001b[0;34m)\u001b[0m\u001b[0;34m\u001b[0m\u001b[0;34m\u001b[0m\u001b[0m\n\u001b[0m\u001b[1;32m      6\u001b[0m     \u001b[0mold_print\u001b[0m\u001b[0;34m(\u001b[0m\u001b[0mvalue\u001b[0m\u001b[0;34m)\u001b[0m\u001b[0;34m\u001b[0m\u001b[0;34m\u001b[0m\u001b[0m\n\u001b[1;32m      7\u001b[0m \u001b[0;34m\u001b[0m\u001b[0m\n",
      "... last 1 frames repeated, from the frame below ...\n",
      "\u001b[0;32m/tmp/ipykernel_4090/2813116114.py\u001b[0m in \u001b[0;36mnew_print\u001b[0;34m(value)\u001b[0m\n\u001b[1;32m      3\u001b[0m \u001b[0;34m\u001b[0m\u001b[0m\n\u001b[1;32m      4\u001b[0m \u001b[0;32mdef\u001b[0m \u001b[0mnew_print\u001b[0m\u001b[0;34m(\u001b[0m\u001b[0mvalue\u001b[0m\u001b[0;34m)\u001b[0m\u001b[0;34m:\u001b[0m\u001b[0;34m\u001b[0m\u001b[0;34m\u001b[0m\u001b[0m\n\u001b[0;32m----> 5\u001b[0;31m     \u001b[0mold_print\u001b[0m\u001b[0;34m(\u001b[0m\u001b[0;34m\"debug\"\u001b[0m\u001b[0;34m)\u001b[0m\u001b[0;34m\u001b[0m\u001b[0;34m\u001b[0m\u001b[0m\n\u001b[0m\u001b[1;32m      6\u001b[0m     \u001b[0mold_print\u001b[0m\u001b[0;34m(\u001b[0m\u001b[0mvalue\u001b[0m\u001b[0;34m)\u001b[0m\u001b[0;34m\u001b[0m\u001b[0;34m\u001b[0m\u001b[0m\n\u001b[1;32m      7\u001b[0m \u001b[0;34m\u001b[0m\u001b[0m\n",
      "\u001b[0;31mRecursionError\u001b[0m: maximum recursion depth exceeded"
     ]
    }
   ],
   "source": [
    "print(\"test\")"
   ]
  }
 ],
 "metadata": {
  "kernelspec": {
   "display_name": "Python 3 (ipykernel)",
   "language": "python",
   "name": "python3"
  },
  "language_info": {
   "codemirror_mode": {
    "name": "ipython",
    "version": 3
   },
   "file_extension": ".py",
   "mimetype": "text/x-python",
   "name": "python",
   "nbconvert_exporter": "python",
   "pygments_lexer": "ipython3",
   "version": "3.10.6"
  }
 },
 "nbformat": 4,
 "nbformat_minor": 5
}
